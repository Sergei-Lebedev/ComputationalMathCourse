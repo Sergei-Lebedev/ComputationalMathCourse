{
 "metadata": {
  "name": "",
  "signature": "sha256:ed5e905390a0bf100c737d1618cc0e0b6f53338e2639d8b09c29d0a5f4e81332"
 },
 "nbformat": 3,
 "nbformat_minor": 0,
 "worksheets": [
  {
   "cells": [
    {
     "cell_type": "heading",
     "level": 1,
     "metadata": {},
     "source": [
      "\u0427\u0438\u0441\u043b\u0435\u043d\u043d\u043e\u0435 \u0438\u0441\u0441\u043b\u0435\u0434\u043e\u0432\u0430\u043d\u0438\u0435 \u0431\u0438\u0444\u0443\u0440\u043a\u0430\u0446\u0438\u0439"
     ]
    },
    {
     "cell_type": "markdown",
     "metadata": {},
     "source": [
      "\u041d\u0430\u0439\u0442\u0438 \u0437\u043d\u0430\u0447\u0435\u043d\u0438\u0435 \u043f\u0430\u0440\u0430\u043c\u0435\u0442\u0440\u0430 `K` \u043f\u0440\u0438 \u043a\u043e\u0442\u043e\u0440\u043e\u043c \u043f\u0440\u043e\u0438\u0441\u0445\u043e\u0434\u0438\u0442 \u0431\u0438\u0444\u0443\u0440\u043a\u0446\u0438\u044f \u0434\u043b\u044f \u0443\u0440\u0430\u0432\u043d\u0435\u043d\u0438\u044f"
     ]
    },
    {
     "cell_type": "markdown",
     "metadata": {},
     "source": [
      "$$ \\left \\lbrace\n",
      "\\begin{array}{ccc} \n",
      "\\frac{dx_1}{dt}&=& \\frac{K}{1+x_2^{2}} - x_1 \\\\ \n",
      "\\frac{dx_2}{dt}&=& \\frac{K}{1+x_1^{2}} - x_2 \n",
      "\\end{array} \\right .$$"
     ]
    },
    {
     "cell_type": "markdown",
     "metadata": {},
     "source": [
      "\u0414\u043b\u044f \u0441\u0443\u0449\u0441\u0435\u0441\u0442\u0432\u043e\u0432\u0430\u043d\u0438\u044f \u0431\u0438\u0444\u0443\u0440\u043a\u0430\u0446\u0438\u0438 \u043d\u0435\u043e\u0431\u0445\u043e\u0434\u0438\u043c\u043e \u0447\u0442\u043e\u0431\u044b \u0432\u044b\u043f\u043e\u043b\u043d\u044f\u043b\u043e\u0441\u044c \u0431\u0438\u0444\u0443\u0440\u043a\u0446\u0438\u043e\u043d\u043d\u043e\u0435 \u0443\u0441\u043b\u043e\u0432\u0438\u0435"
     ]
    },
    {
     "cell_type": "markdown",
     "metadata": {},
     "source": [
      "$$P'_x(x^{*},y^{*}) \\cdot Q'_y(x^{*},y^{*})-Q'_x(x^{*},y^{*}) \\cdot P'_y(x^{*},y^{*})=0$$"
     ]
    },
    {
     "cell_type": "markdown",
     "metadata": {},
     "source": [
      "\u0414\u043b\u044f \u0441\u0438\u0441\u0442\u0435\u043c\u044b \u0431\u0438\u0444\u0443\u0440\u043a\u0430\u0446\u0438\u043e\u043d\u043d\u043e\u0435 \u0443\u0441\u043b\u043e\u0432\u0438\u0435 \u0431\u0443\u0434\u0435\u0442 \u0438\u043c\u0435\u0442\u044c \u0441\u043b\u0435\u0434\u0443\u044e\u0449\u0438\u0439 \u0432\u0438\u0434"
     ]
    },
    {
     "cell_type": "markdown",
     "metadata": {},
     "source": [
      "$$1-\\frac{4K^{2}x_1^{*}x_2^{*}}{((1+(x_1^{*})^{2})(1+(x_2^{*})^{2}))^{2}}=0$$"
     ]
    },
    {
     "cell_type": "markdown",
     "metadata": {},
     "source": [
      "\u0422\u0430\u043a \u043a\u0430\u043a \u0438\u0441\u0445\u043e\u0434\u043d\u043e\u0435 \u0443\u0440\u0430\u0432\u043d\u0435\u043d\u0438\u0435 \u044f\u0432\u043b\u044f\u0435\u0442\u0441\u044f \u0441\u0438\u043c\u043c\u0435\u0442\u0440\u0438\u0447\u043d\u044b\u043c, \u0442\u043e \u0441\u0443\u0449\u0435\u0441\u0442\u0432\u0443\u0435\u0442 \u0440\u0435\u0448\u0435\u043d\u0438\u0435 $$x^{*}=x_1^{*}=x_2^{*}$$"
     ]
    },
    {
     "cell_type": "markdown",
     "metadata": {},
     "source": [
      "\u0421\u043b\u0435\u0434\u043e\u0432\u0430\u0442\u0435\u043b\u044c\u043d\u043e"
     ]
    },
    {
     "cell_type": "markdown",
     "metadata": {},
     "source": [
      "$$(x^{*})^{3} + x^{*} - K=0$$\n",
      "$$K = (x^{*})^{3} + x^{*}$$"
     ]
    },
    {
     "cell_type": "code",
     "collapsed": false,
     "input": [
      "def K(x):\n",
      "    return float(x**3+x)"
     ],
     "language": "python",
     "metadata": {},
     "outputs": [],
     "prompt_number": 1
    },
    {
     "cell_type": "markdown",
     "metadata": {},
     "source": [
      "\u041e\u0431\u043e\u0437\u043d\u0430\u0447\u0438\u043c $$F(K,x{*}) = 1-\\frac{4K^{2}x_1^{*}x_2^{*}}{((1+(x_1^{*})^{2})(1+(x_2^{*})^{2}))^{2}}$$"
     ]
    },
    {
     "cell_type": "code",
     "collapsed": false,
     "input": [
      "def F(x):\n",
      "    return 1 - (4 * (K(x)**2)*(x**2))/((1+x**2)**4)"
     ],
     "language": "python",
     "metadata": {},
     "outputs": [],
     "prompt_number": 2
    },
    {
     "cell_type": "markdown",
     "metadata": {},
     "source": [
      "\u0422\u043e\u0433\u0434\u0430 $$F'(K,x{*})_K = -\\frac{8K(x^{*})^{2}}{(1+(x^{*})^{2})^{4}}$$"
     ]
    },
    {
     "cell_type": "markdown",
     "metadata": {},
     "source": [
      "\u041f\u043e\u0434\u0441\u0442\u0430\u0432\u043b\u044f\u044f \u0432\u044b\u0440\u0430\u0436\u0435\u043d\u0438\u0435 `K(x)` \u043f\u043e\u043b\u0443\u0447\u0438\u043c $$F'(K,x{*})_K = -\\frac{8K'_x(x^{*})^{2}}{(1+(x^{*})^{2})^{4}}(3x^{2}+1)$$"
     ]
    },
    {
     "cell_type": "code",
     "collapsed": false,
     "input": [
      "def F_der(x):\n",
      "    return -8.0*K(x)*(x**2)/((1+x**2)**4)*(3*x**2+1)"
     ],
     "language": "python",
     "metadata": {},
     "outputs": [],
     "prompt_number": 3
    },
    {
     "cell_type": "markdown",
     "metadata": {},
     "source": [
      "\u041e\u043f\u0440\u0435\u0434\u0435\u043b\u0438\u043c \u043c\u0435\u0442\u043e\u0434 \u041d\u044c\u044e\u0442\u043e\u043d\u0430"
     ]
    },
    {
     "cell_type": "code",
     "collapsed": false,
     "input": [
      "def newtons(f, f_der, x_start):\n",
      "    N = 0\n",
      "    eps_x = 0.00001\n",
      "    eps_y = 0.00001\n",
      "    N_MAX = 1000\n",
      "    x_old = x_start\n",
      "    while N < N_MAX:\n",
      "        x_new = x_old - f(x_old)/f_der(x_old)\n",
      "        if abs(f(x_new)) < eps_y and abs(x_old - x_new) < eps_x:\n",
      "            return x_new\n",
      "        else:\n",
      "            N = N + 1\n",
      "            x_old = x_new\n",
      "    print \"Too many iterations\""
     ],
     "language": "python",
     "metadata": {},
     "outputs": [],
     "prompt_number": 4
    },
    {
     "cell_type": "markdown",
     "metadata": {},
     "source": [
      "\u041d\u0430\u0439\u0434\u0435\u043c \u0437\u043d\u0430\u0447\u0435\u043d\u0438\u0435 \u043f\u0430\u0440\u0430\u043c\u0435\u0442\u0440\u0430 `K` \u043f\u0440\u0438 \u043a\u043e\u0442\u043e\u0440\u043e\u043c \u043f\u0440\u043e\u0438\u0441\u0445\u043e\u0434\u0438\u0442 \u0431\u0438\u0444\u0443\u0440\u043a\u0430\u0446\u0438\u044f\n"
     ]
    },
    {
     "cell_type": "code",
     "collapsed": false,
     "input": [
      "a = newtons(F, F_der, 2)\n",
      "print K(a)"
     ],
     "language": "python",
     "metadata": {},
     "outputs": [
      {
       "output_type": "stream",
       "stream": "stdout",
       "text": [
        "2.00001731354\n"
       ]
      }
     ],
     "prompt_number": 6
    },
    {
     "cell_type": "markdown",
     "metadata": {},
     "source": [
      "\u041f\u043e\u043b\u0443\u0447\u0435\u043d\u043d\u043e\u0435 \u0437\u043d\u0430\u0447\u0435\u043d\u0438\u0435 \u0441\u043e\u0433\u043b\u0430\u0441\u0443\u0435\u0442\u0441\u044f \u0441 \u0433\u0440\u0430\u0444\u0438\u043a\u043e\u043c \u043f\u043e\u043b\u0443\u0447\u0435\u043d\u043d\u044b\u043c \u0432 \u0414\u04171 (\u0440\u0438\u0441\u0443\u043d\u043e\u043a \u043d\u0438\u0436\u0435)"
     ]
    },
    {
     "cell_type": "code",
     "collapsed": false,
     "input": [
      "import matplotlib.pyplot as plt\n",
      "from scipy.special import cbrt\n",
      "def solution1(alpha):\n",
      "    p = np.sqrt(alpha*alpha/4.0 + 1.0/27.0)\n",
      "    return cbrt(alpha/2 +p)+cbrt(alpha/2-p)\n",
      "\n",
      "def solution2(alpha):\n",
      "    d = np.sqrt(alpha**2 -4.0)\n",
      "    return (alpha+d)/2, (alpha-d)/2\n",
      "\n",
      "k_sol_1 = np.arange(0, 10, 0.1)\n",
      "k_sol_2 = np.arange(2, 10, 0.1)\n",
      "y4_1 = [solution1(k) for k in k_sol_1]\n",
      "y4_2 = [solution2(k)[0] for k in k_sol_2]\n",
      "y4_3 = [solution2(k)[1] for k in k_sol_2]\n",
      "plt.plot(k_sol_1, y4_1,'b', label=\"Equilibrium points\")\n",
      "plt.plot(k_sol_2, y4_2,'b')\n",
      "plt.plot(k_sol_2, y4_3,'b')\n",
      "plt.ylabel(\"Equilibrium point\")\n",
      "plt.xlabel(\"K\")\n",
      "plt.legend(loc='upper left')\n",
      "plt.grid(True)\n",
      "plt.show()"
     ],
     "language": "python",
     "metadata": {},
     "outputs": [
      {
       "metadata": {},
       "output_type": "display_data",
       "png": "[encoded data removed]",
       "text": [
        "<matplotlib.figure.Figure at 0x810ff28>"
       ]
      }
     ],
     "prompt_number": 13
    }
   ],
   "metadata": {}
  }
 ]
}